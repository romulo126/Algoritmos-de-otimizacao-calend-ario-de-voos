{
 "cells": [
  {
   "cell_type": "markdown",
   "metadata": {},
   "source": [
    "## Algoritmos de otimização - calendário de voos"
   ]
  },
  {
   "cell_type": "code",
   "execution_count": 1,
   "metadata": {},
   "outputs": [],
   "source": [
    "pessoas = [('Lisboa', 'LIS'),\n",
    "           ('Madrid', 'MAD'),\n",
    "           ('Paris', 'CDG'),\n",
    "           ('Dublin', 'DUB'),\n",
    "           ('Bruxelas', 'BRU'),\n",
    "           ('Londres', 'LHR')]\n",
    "destino = 'FCO'"
   ]
  },
  {
   "cell_type": "code",
   "execution_count": 2,
   "metadata": {},
   "outputs": [],
   "source": [
    "voos = {}\n",
    "for line in open('component/flights.txt'):\n",
    "    origem, destino, saida, chegada, preco = line.split(',')\n",
    "    voos.setdefault((origem,destino),[])\n",
    "    voos[(origem,destino)].append((saida, chegada, int(preco)))"
   ]
  },
  {
   "cell_type": "code",
   "execution_count": 3,
   "metadata": {},
   "outputs": [],
   "source": [
    "def imprimir_voos(agenda):\n",
    "    id_voo = -1\n",
    "    total_preco =0\n",
    "    for i in range(len(agenda) // 2):\n",
    "        nome = pessoas[i][0]\n",
    "        origem = pessoas[i][1]\n",
    "        id_voo +=1\n",
    "        ida = voos[(origem,destino)][agenda[id_voo]]\n",
    "        total_preco += ida[2]\n",
    "        id_voo += 1\n",
    "        volta = voos[(destino,origem)][agenda[id_voo]]\n",
    "        total_preco += volta[2]\n",
    "        print('%10s%10s %5s-%5s %3s %5s-%5s %3s' % (nome,origem,ida[0],ida[1],ida[2],\n",
    "                                                   volta[0],volta[1],volta[2]))\n",
    "    print('Preço total: ',total_preco)"
   ]
  },
  {
   "cell_type": "markdown",
   "metadata": {},
   "source": [
    "## Fitness Function"
   ]
  },
  {
   "cell_type": "code",
   "execution_count": 4,
   "metadata": {},
   "outputs": [],
   "source": [
    "def fitness_function(agenda):\n",
    "    id_voo = -1\n",
    "    total_preco =0\n",
    "    for i in range(len(agenda) // 2):\n",
    "        origem = pessoas[i][1]\n",
    "        id_voo +=1\n",
    "        ida = voos[(origem,destino)][agenda[id_voo]]\n",
    "        total_preco += ida[2]\n",
    "        id_voo += 1\n",
    "        volta = voos[(destino,origem)][agenda[id_voo]]\n",
    "        total_preco += volta[2]\n",
    "        \n",
    "    return total_preco"
   ]
  },
  {
   "cell_type": "markdown",
   "metadata": {},
   "source": [
    "## Mlrose"
   ]
  },
  {
   "cell_type": "code",
   "execution_count": 5,
   "metadata": {},
   "outputs": [],
   "source": [
    "import six\n",
    "import sys\n",
    "sys.modules['sklearn.externals.six'] = six\n",
    "import mlrose"
   ]
  },
  {
   "cell_type": "code",
   "execution_count": 6,
   "metadata": {},
   "outputs": [],
   "source": [
    "fitnes = mlrose.CustomFitness(fitness_function)"
   ]
  },
  {
   "cell_type": "code",
   "execution_count": 7,
   "metadata": {},
   "outputs": [],
   "source": [
    "problema= mlrose.DiscreteOpt(length=12,fitness_fn=fitnes,maximize=False,max_val=10)"
   ]
  },
  {
   "cell_type": "markdown",
   "metadata": {},
   "source": [
    "## Hill Climb"
   ]
  },
  {
   "cell_type": "code",
   "execution_count": 8,
   "metadata": {},
   "outputs": [],
   "source": [
    "solucao_hill, custo_hill = mlrose.hill_climb(problema , random_state=1)"
   ]
  },
  {
   "cell_type": "markdown",
   "metadata": {},
   "source": [
    "## Simulated annealing"
   ]
  },
  {
   "cell_type": "code",
   "execution_count": 9,
   "metadata": {},
   "outputs": [],
   "source": [
    "solucao_annealing, custo_annealing = mlrose.simulated_annealing(problema,\n",
    "                                                          schedule=mlrose.decay.GeomDecay(\n",
    "                                                              init_temp=100000),random_state=1)"
   ]
  },
  {
   "cell_type": "markdown",
   "metadata": {},
   "source": [
    "## Algoritimo Genetico"
   ]
  },
  {
   "cell_type": "code",
   "execution_count": 10,
   "metadata": {},
   "outputs": [],
   "source": [
    "solucao_genetic, custo_genetic = mlrose.genetic_alg(problema , pop_size=500,mutation_prob=0.2)"
   ]
  },
  {
   "cell_type": "code",
   "execution_count": 11,
   "metadata": {},
   "outputs": [
    {
     "data": {
      "text/plain": [
       "(array([2, 6, 5, 7, 8, 4, 0, 3, 3, 3, 9, 1]), 1698.0)"
      ]
     },
     "execution_count": 11,
     "metadata": {},
     "output_type": "execute_result"
    }
   ],
   "source": [
    "solucao_annealing, custo_annealing"
   ]
  },
  {
   "cell_type": "code",
   "execution_count": 12,
   "metadata": {},
   "outputs": [
    {
     "data": {
      "text/plain": [
       "(array([2, 6, 5, 7, 8, 1, 3, 6, 0, 2, 9, 1]), 1566.0)"
      ]
     },
     "execution_count": 12,
     "metadata": {},
     "output_type": "execute_result"
    }
   ],
   "source": [
    "solucao_hill, custo_hill"
   ]
  },
  {
   "cell_type": "code",
   "execution_count": 13,
   "metadata": {},
   "outputs": [
    {
     "data": {
      "text/plain": [
       "(array([2, 9, 2, 3, 8, 4, 3, 0, 0, 7, 1, 7]), 1944.0)"
      ]
     },
     "execution_count": 13,
     "metadata": {},
     "output_type": "execute_result"
    }
   ],
   "source": [
    "solucao_genetic, custo_genetic"
   ]
  },
  {
   "cell_type": "code",
   "execution_count": 14,
   "metadata": {},
   "outputs": [
    {
     "name": "stdout",
     "output_type": "stream",
     "text": [
      "    Lisboa       LIS  9:15-12:03  99 15:07-17:21 129\n",
      "    Madrid       MAD 14:22-16:32 126 17:06-20:00  95\n",
      "     Paris       CDG 18:23-21:35 134 12:37-15:05 170\n",
      "    Dublin       DUB  6:17- 8:26  89 10:33-12:03  74\n",
      "  Bruxelas       BRU 10:30-14:57 290 10:51-14:16 256\n",
      "   Londres       LHR 20:30-23:11 114  8:19-11:16 122\n",
      "Preço total:  1698\n"
     ]
    }
   ],
   "source": [
    "imprimir_voos(solucao_annealing)"
   ]
  },
  {
   "cell_type": "code",
   "execution_count": 15,
   "metadata": {},
   "outputs": [
    {
     "name": "stdout",
     "output_type": "stream",
     "text": [
      "    Lisboa       LIS  9:15-12:03  99 15:07-17:21 129\n",
      "    Madrid       MAD 14:22-16:32 126 17:06-20:00  95\n",
      "     Paris       CDG 18:23-21:35 134  8:23-11:07 143\n",
      "    Dublin       DUB 11:16-13:29  83 15:25-16:58  62\n",
      "  Bruxelas       BRU  6:12-10:22 230  9:49-13:51 229\n",
      "   Londres       LHR 20:30-23:11 114  8:19-11:16 122\n",
      "Preço total:  1566\n"
     ]
    }
   ],
   "source": [
    "imprimir_voos(solucao_hill)"
   ]
  },
  {
   "cell_type": "code",
   "execution_count": 16,
   "metadata": {},
   "outputs": [
    {
     "name": "stdout",
     "output_type": "stream",
     "text": [
      "    Lisboa       LIS  9:15-12:03  99 20:05-21:44 172\n",
      "    Madrid       MAD  9:42-11:32 169 10:33-13:11 132\n",
      "     Paris       CDG 18:23-21:35 134 12:37-15:05 170\n",
      "    Dublin       DUB 11:16-13:29  83  6:39- 8:09  86\n",
      "  Bruxelas       BRU  6:12-10:22 230 17:14-20:59 277\n",
      "   Londres       LHR  8:27-10:45 139 16:33-18:15 253\n",
      "Preço total:  1944\n"
     ]
    }
   ],
   "source": [
    "imprimir_voos(solucao_genetic)"
   ]
  }
 ],
 "metadata": {
  "kernelspec": {
   "display_name": "Python 3",
   "language": "python",
   "name": "python3"
  },
  "language_info": {
   "codemirror_mode": {
    "name": "ipython",
    "version": 3
   },
   "file_extension": ".py",
   "mimetype": "text/x-python",
   "name": "python",
   "nbconvert_exporter": "python",
   "pygments_lexer": "ipython3",
   "version": "3.8.3"
  }
 },
 "nbformat": 4,
 "nbformat_minor": 4
}
